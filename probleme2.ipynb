{
 "cells": [
  {
   "cell_type": "code",
   "execution_count": null,
   "metadata": {},
   "outputs": [],
   "source": [
    "%pip install gurobipy"
   ]
  },
  {
   "cell_type": "code",
   "execution_count": 3,
   "metadata": {},
   "outputs": [],
   "source": [
    "import numpy as np\n",
    "import pandas as pd\n",
    "\n",
    "import gurobipy as gp\n",
    "from gurobipy import GRB\n",
    "\n",
    "# tested with Python 3.7.0 & Gurobi 9.0"
   ]
  },
  {
   "cell_type": "markdown",
   "metadata": {},
   "source": [
    "## Input Data\n",
    "We define all the input data of the model."
   ]
  },
  {
   "cell_type": "code",
   "execution_count": 5,
   "metadata": {},
   "outputs": [],
   "source": [
    "# Parameters\n",
    "\n",
    "# #1. years = [1,2,3,4,5, 6, 7, 8]\n",
    "# years_number = int(input(\"Enter the number of years: \")) # number of years given by the user\n",
    "# years = [i for i in range(1, years_number+1)] # plan years given by the user\n",
    "# print(\"years: \", years)\n",
    "\n",
    "# #2. lands = [1,2,3,4] \n",
    "# lands_number = int(input(\"Enter the number of land types: \")) # number of land types given by the user\n",
    "# lands = [i for i in range(1, lands_number+1)] # land types given by the user\n",
    "# print(\"lands: \", lands)\n",
    "\n",
    "# #3. animals \n",
    "# #animal_ages = [2,3,4,5,6,7,8,9,10,11] # animal ages (before having to sell them) given by the user: from ... to ...\n",
    "# #3.1 animals\n",
    "# #tableau1 : {\n",
    "# #              first_production_age    last_sell_age       min_final_animals       max_final_animals      animal_yearly_income       birthrate\n",
    "# #animal\n",
    "# animal_first_production_age = int(input(\"Enter the first production age of the animal: \")) # \n",
    "# animal_last_sell_age = int(input(\"Enter the last sell age of the animal: \")) #\n",
    "# animal_ages = [i for i in range(animal_first_production_age, animal_last_sell_age+1)] # animal ages (before having to sell them) given by the user: from ... to ...\n",
    "# # ages = [1,2,3,4,5,6,7,8,9,10,11,12] # ages = animal_ages + [1] + ... + [min(animal_ages)-1] + [max(animal_ages)+1] \n",
    "# ages = [i for i in range(1, max(animal_ages)+1)] \n",
    "# # min_final_animals = 50\n",
    "# # max_final_animals = 175\n",
    "# min_final_animals = int(input(\"Enter the minimum number of final animals: \")) # minimum number of final animals\n",
    "# max_final_animals = int(input(\"Enter the maximum number of final animals: \")) # maximum number of final animals\n",
    "# #animal_yearly_income = 370 #milk, eggs, etc.\n",
    "# animal_yearly_income = float(input(\"Enter the yearly income: \")) # yearly income\n",
    "# # birthrate = 1.1\n",
    "# birthrate = float(input(\"Enter the birthrate: \")) # birthrate\n",
    "# #} fin de tableau 1\n",
    "\n",
    "\n",
    "\n",
    "# #tableau2 : {\n",
    "# #             land      labor    decay    initial_number     price    cost   \n",
    "# #animal    \n",
    "# #heifer\n",
    "\n",
    "# #animal land = 1\n",
    "# animal_land = float(input(\"Enter the land needed for an animal: \")) # land needed for an animal\n",
    "# # animal_labor = 42/100.0 # labor needed for an animal\n",
    "# animal_labor = float(input(\"Enter the labor needed for an animal: \") ) # labor needed for an animal\n",
    "# #animal_decay = 0.02\n",
    "# animal_decay = float(input(\"Enter the animal decay: \")) # animal decay\n",
    "# # initial_animals_number = 9.8\n",
    "# initial_animals_number = float(input(\"Enter the initial number of animals: \")) # initial number of animals\n",
    "# #animal_price = 120\n",
    "# animal_price = float(input(\"Enter the animals price: \")) # animals price\n",
    "# #animal_cost = 100 #Yearly cost for supporting an animal.\n",
    "# animal_cost = float(input(\"Enter the yearly cost for supporting an animal: \")) #Yearly cost for supporting an animal.\n",
    "# print(\"animal_ages: \", animal_ages)\n",
    "# print(\"possible ages: \", ages)\n",
    "# print(\"animal_labor: \", animal_labor)\n",
    "# print(\"animal_decay: \", animal_decay)\n",
    "# print(\"initial_animals_number: \", initial_animals_number)\n",
    "# print(\"min_final_animals: \", min_final_animals)\n",
    "# print(\"max_final_animals: \", max_final_animals)\n",
    "# print(\"animal_price: \", animal_price)\n",
    "# print(\"animal_yearly_income: \", animal_yearly_income)\n",
    "# print(\"birthrate: \", birthrate)\n",
    "# print(\"animal_cost: \", animal_cost)\n",
    "\n",
    "\n",
    "\n",
    "# #3.2 baby_animals\n",
    "# # baby_animal_land = 2/3.0 # land needed for a baby_animal\n",
    "# baby_animal_land = float(input(\"Enter the land needed for a baby_animal: \")) \n",
    "# # baby_animal_labor = 10/100.0 # labor needed for a baby_animal\n",
    "# baby_animal_labor = float(input(\"Enter the labor needed for a baby_animal: \")) \n",
    "# #baby_animal_decay = 0.05\n",
    "# baby_animal_decay = float(input(\"Enter the baby_animal decay: \")) \n",
    "# # initial_baby_animal_number = 9.5\n",
    "# initial_baby_animal_number = float(input(\"Enter the initial number of baby_animals: \"))\n",
    "# #baby_animal_price = 40 \n",
    "# baby_animal_price = float(input(\"Enter the baby_animals price: \")) \n",
    "# #baby_animal_cost = 50 #Yearly cost for supporting a baby_animal\n",
    "# baby_animal_cost = float(input(\"Enter the yearly cost for supporting a heifer: \")) #Yearly cost for supporting a heifer.\n",
    "# print(\"baby_animal_land:\", baby_animal_land)\n",
    "# print(\"baby_animal_labor:\", baby_animal_labor)\n",
    "# print(\"baby_animal_decay:\", baby_animal_decay)\n",
    "# print(\"initial_baby_animal_number:\", initial_baby_animal_number)\n",
    "# print(\"baby_animal_price:\", baby_animal_price)\n",
    "# print(\"baby_animal_cost:\", baby_animal_cost) \n",
    "# #} fin de tableau 2\n",
    "\n",
    "\n",
    "# #4. housing_cap && land_cap && labor_cap\n",
    "# # tableau 3: capacity\n",
    "# #              housing         land            labor\n",
    "# #capacity\n",
    "# #housing_cap = 130\n",
    "# housing_cap = int(input(\"Enter the housing capacity: \")) # housing capacity given by the user\n",
    "# # land_cap = 200 # land capacity which is the maximum land that can be used for farming (in acres)\n",
    "# land_cap = int(input(\"Enter the land capacity: \")) # land capacity which is the maximum land that can be used for farming (in acres)\n",
    "# # labor_cap = 5500/100.0\n",
    "# labor_cap = int(input(\"Enter the labor capacity: \")) # labor capacity which is the maximum labor that can be used for farming (in hours)\n",
    "# print(\"housing_cap: \", housing_cap)\n",
    "# print(\"land_cap: \", land_cap)\n",
    "# print(\"labor_cap: \", labor_cap)\n",
    "# #} fin de tableau 3\n",
    "\n",
    "\n",
    "# #5. seeds\n",
    "# #tableau4: {\n",
    "# #              seed1_area             seed1_yield\n",
    "# #land1\n",
    "# #...\n",
    "# #landn\n",
    "\n",
    "# #5.1. seed1 : seed1\n",
    "# # lands_area = {1: 20.0, 2: 30.0, 3: 20.0, 4: 10.0} # area of land type i (in acres) given by the user\n",
    "# seed1_area = {} # area of land type i (in acres) given by the user\n",
    "# for i in range(1, lands_number+1):\n",
    "#     seed1_area[i] = float(input(\"Enter the area of land type \" + str(i) + \": \")) \n",
    "\n",
    "# # seed1_yield_lands = {1:1.1, 2:0.9, 3:0.8, 4:0.65} \n",
    "# seed1_yield = {}\n",
    "# for i in range(1, lands_number+1):\n",
    "#     seed1_yield[i] = float(input(\"Enter the yield of seed1ain in land type \" + str(i) + \": \"))\n",
    "# #} fin de tableau 4\n",
    "\n",
    "# #tableau 5:{\n",
    "# #             intake     labor    price    cost    land_cost\n",
    "# #seed1\n",
    "# #seed2\n",
    "\n",
    "# # seed1_intake = 0.6 # seed1 intake (intake means the amount of food that the animal eats)\n",
    "# seed1_intake = float(input(\"Enter the seed1 intake: \")) # seed1 intake (intake means the amount of food that the animal eats)\n",
    "# # seed1_labor = 4/100.0\n",
    "# seed1_labor = float(input(\"Enter the labor needed for a seed1ain: \")) # labor needed for a seed1ain\n",
    "# #seed1_price = 75 # Price for selling a ton of seed1ain\n",
    "# seed1_price = float(input(\"Enter the price for selling a ton of seed1ain: \")) # Price for selling a ton of seed1ain\n",
    "# # seed1_cost = 90 # Cost for buying a ton of seed1ain\n",
    "# seed1_cost = float(input(\"Enter the cost for buying a ton of seed1ain: \")) # Cost for buying a ton of seed1ain\n",
    "# # seed1_land_cost = 15 #Yearly cost for supporting an acre of land devoted to seed1ain.\n",
    "# seed1_land_cost = float(input(\"Enter the yearly cost for supporting an acre of land devoted to seed1ain: \")) #Yearly cost for supporting an acre of land devoted to seed1ain.\n",
    "# print(\"seed1_area: \", seed1_area)\n",
    "# print(\"seed1_yield: \", seed1_yield)\n",
    "# print(\"seed1_intake: \", seed1_intake)\n",
    "# print(\"seed1_labor: \", seed1_labor)\n",
    "# print(\"seed1_price: \", seed1_price)\n",
    "# print(\"seed1_cost: \", seed1_cost)\n",
    "# print(\"seed1_land_cost: \", seed1_land_cost)\n",
    "\n",
    "\n",
    "# #5.2. seed2 : \n",
    "# # seed2_yield = 1.5 \n",
    "# seed2_yield = float(input(\"Enter the yield of seed2: \")) \n",
    "# # seed2_intake = 0.7\n",
    "# seed2_intake = float(input(\"Enter the seed2 intake: \")) #intake (intake means the amount of food that the animal eats)\n",
    "# # seed2_labor = 14/100.0\n",
    "# seed2_labor = float(input(\"Enter the labor needed for a seed2: \")) # labor needed\n",
    "# # seed2_price = 58 # Price for selling a ton of seed2\n",
    "# seed2_price = float(input(\"Enter the price for selling a ton of seed2: \")) # Price for selling a ton\n",
    "# # seed2_cost = 70 # Cost for buying a ton of seed2\n",
    "# seed2_cost = float(input(\"Enter the cost for buying a ton of seed2: \")) # Cost for buying a ton\n",
    "# # seed2_land_cost = 10 #Yearly cost for supporting an acre of land devoted \n",
    "# seed2_land_cost = float(input(\"Enter the yearly cost for supporting an acre of land devoted to seed2: \")) #Yearly cost for supporting an acre of land devoted\n",
    "# print(\"seed2_yield: \", seed2_yield)\n",
    "# print(\"seed2_intake: \", seed2_intake)\n",
    "# print(\"seed2_labor: \", seed2_labor)\n",
    "# print(\"seed2_price: \", seed2_price)\n",
    "# print(\"seed2_cost: \", seed2_cost)\n",
    "# print(\"seed2_land_cost: \", seed2_land_cost)\n",
    "# #} fin de tableau 5\n",
    "\n",
    "\n",
    "# #6. labor cost\n",
    "# #6.1. overtime_cost = 1,20 # Cost for getting an hour of overtime.\n",
    "# overtime_cost = float(input(\"Enter the cost for getting an hour of overtime: \")) # Cost for getting an hour of overtime.\n",
    "\n",
    "#6.2. regular_time_cost = 4000 #Cost for having 5,500 hours of labor in regular time.\n",
    "regular_time_cost = float(input(\"Enter the cost for having\"  + \"hours of labor in regular time: \")) #Cost for having labor_cap hours of labor in regular time.\n",
    "\n",
    "#installment = 39.71 #Annual payment for each  $200  loan\n",
    "installment = float(input(\"Enter the annual payment for each $200 loan: \")) #Annual payment for each  $200  loan\n"
   ]
  },
  {
   "cell_type": "code",
   "execution_count": 5,
   "metadata": {},
   "outputs": [
    {
     "name": "stdout",
     "output_type": "stream",
     "text": [
      "{1: 1.1, 2: 0.9, 3: 0.8, 4: 0.7}\n"
     ]
    }
   ],
   "source": []
  },
  {
   "cell_type": "markdown",
   "metadata": {},
   "source": [
    "## Model Deployment\n",
    "\n",
    "We create a model and the variables. For each, year we have continuous variables, which tell us how much sugar beet is seed1own (in tons), how much seed1ain is bought (in tons), how much seed1ain is sold (in tons), how much sugar beet is bought (in tons), how much sugar beet is sold (in tons), how much extra labor is recruited, how much capital outlay there is, how many heifers are sold at birth, how much profit there is, and how many animals are newborns (age 0).\n",
    "\n",
    "For each year and each land seed1oup, there is a continuous variable, which tells us how much seed1ain is seed1own on that land seed1oup. For each year and each animal age, there is a continuous variable that tells us how many animals exists in the current year of that age."
   ]
  },
  {
   "cell_type": "code",
   "execution_count": 6,
   "metadata": {},
   "outputs": [
    {
     "name": "stdout",
     "output_type": "stream",
     "text": [
      "Set parameter Username\n",
      "Academic license - for non-commercial use only - expires 2025-03-01\n"
     ]
    }
   ],
   "source": [
    "model = gp.Model('Farming')\n",
    "seed2 = model.addVars(years, vtype=GRB.CONTINUOUS, name=\"seed2\")\n",
    "seed1_buy = model.addVars(years, vtype=GRB.CONTINUOUS, name=\"seed1_buy\")\n",
    "seed1_sell = model.addVars(years, vtype=GRB.CONTINUOUS, name=\"seed1_sell\")\n",
    "seed2_buy = model.addVars(years, vtype=GRB.CONTINUOUS, name=\"seed2_buy\")\n",
    "seed2_sell = model.addVars(years, vtype=GRB.CONTINUOUS, name=\"seed2_sell\")\n",
    "overtime = model.addVars(years, vtype=GRB.CONTINUOUS, name=\"Overtime\")\n",
    "outlay = model.addVars(years, vtype=GRB.CONTINUOUS, name=\"Outlay\")\n",
    "baby_animals_sell = model.addVars(years, vtype=GRB.CONTINUOUS, name=\"baby_animals_sell\")\n",
    "newborn = model.addVars(years, vtype=GRB.CONTINUOUS, name=\"Newborn\")\n",
    "profit = model.addVars(years, vtype=GRB.CONTINUOUS, name=\"Profit\")\n",
    "seed1 = model.addVars(years, lands, vtype=GRB.CONTINUOUS, name=\"seed1\")\n",
    "animals = model.addVars(years, ages, vtype=GRB.CONTINUOUS, name=\"animals\")"
   ]
  },
  {
   "cell_type": "markdown",
   "metadata": {},
   "source": [
    "Next we insert the constraints:\n",
    "\n",
    "There is a housing capacity  per year. It is possible that there are more , but housing these additional animals will require additional costs related to renting houses, which is covered with the `Outlay` variables."
   ]
  },
  {
   "cell_type": "code",
   "execution_count": 7,
   "metadata": {},
   "outputs": [],
   "source": [
    "# 1. Housing capacity\n",
    "\n",
    "HousingCap = model.addConstrs((newborn[year] +\n",
    "                    animals[year,1] +\n",
    "                    gp.quicksum(animals[year,age] for age in animal_ages) -\n",
    "                    gp.quicksum(outlay[d] for d in years if d <= year)\n",
    "                    <= housing_cap for year in years), name=\"Housing_cap\")"
   ]
  },
  {
   "cell_type": "markdown",
   "metadata": {},
   "source": [
    "After selling, buying, and producing seed1 and seed2, there needs to be enough of them in storage to feed all the animals."
   ]
  },
  {
   "cell_type": "code",
   "execution_count": 8,
   "metadata": {},
   "outputs": [],
   "source": [
    "# 2.1 Food consumption (seed1ain)\n",
    "\n",
    "seed1ainConsumption = model.addConstrs((gp.quicksum(seed1_intake*animals[year, age] for age in animal_ages)\n",
    "                  <= seed1_buy[year] - seed1_sell[year] + seed1.sum(year, '*')\n",
    "                  for year in years), name=\"Seed1_consumption\")\n",
    "\n",
    "# 2.1 Food consumption (Sugar beet)\n",
    "SugarbeetConsumption = model.addConstrs((gp.quicksum(seed2_intake*animals[year, age] for age in animal_ages)\n",
    "                  <= seed2_buy[year] - seed2_sell[year] + seed2[year]\n",
    "                  for year in years), name=\"Seed2_consumption\")"
   ]
  },
  {
   "cell_type": "markdown",
   "metadata": {},
   "source": [
    "The seed1ain produced on a land seed1oup cannot exceed the specified production capacity of that land seed1oup."
   ]
  },
  {
   "cell_type": "code",
   "execution_count": 9,
   "metadata": {},
   "outputs": [],
   "source": [
    "# 3. seed1ain seed1owing\n",
    "\n",
    "seed1eed1owing = model.addConstrs((seed1[year, land] <= seed1_yield[land]*seed1_area[land]\n",
    "                  for year in years for land in lands), name=\"Seed1_seed1owing\")"
   ]
  },
  {
   "cell_type": "markdown",
   "metadata": {},
   "source": [
    "Each animal needs a certain number of acres to support it. The amount depends on the age. There are `land_cap` acres available at most."
   ]
  },
  {
   "cell_type": "code",
   "execution_count": 12,
   "metadata": {},
   "outputs": [],
   "source": [
    "# 4. Land capacity\n",
    "\n",
    "LandCap = model.addConstrs((seed2[year]/seed2_yield + baby_animal_land*(newborn[year] + animals[year,1])\n",
    "                  + gp.quicksum((1/seed1_yield[land])*seed1[year, land] for land in lands)\n",
    "                  + gp.quicksum(animal_land*animals[year, age] for age in animal_ages)\n",
    "                  <= land_cap for year in years), name=\"Land_capacity\")"
   ]
  },
  {
   "cell_type": "markdown",
   "metadata": {},
   "source": [
    "Each animal and each acre requires a certain amount of worker time to maintain. The farm is currently able to provide a fixed number of worker hours in a year. Any additional work that needs to be done requires external workers, for which there will be an additional cost."
   ]
  },
  {
   "cell_type": "code",
   "execution_count": 13,
   "metadata": {},
   "outputs": [],
   "source": [
    "# 5. Labor\n",
    "\n",
    "Labor = model.addConstrs((baby_animal_labor*(newborn[year] + animals[year,1])\n",
    "                  + gp.quicksum(animal_labor*animals[year, age] for age in animal_ages)\n",
    "                  + gp.quicksum(seed1_labor/seed1_yield[land]*seed1[year,land] for land in lands)\n",
    "                  + seed2_labor/seed2_yield*seed2[year] \n",
    "                  <= labor_cap + overtime[year] for year in years), name=\"Labor\")"
   ]
  },
  {
   "cell_type": "markdown",
   "metadata": {},
   "source": [
    "Each year a certain percentage of the animals die, depending on their age."
   ]
  },
  {
   "cell_type": "code",
   "execution_count": 14,
   "metadata": {},
   "outputs": [],
   "source": [
    "# 6.1 Continuity\n",
    "\n",
    "Continuity1 = model.addConstrs((animals[year,1] == (1-baby_animal_decay)*newborn[year-1] \n",
    "                  for year in years if year > min(years)),\n",
    "                 name=\"Continuity_a\")\n",
    "\n",
    "# 6.2 Continuity\n",
    "\n",
    "Continuity2 = model.addConstrs((animals[year,2] == (1-baby_animal_decay)*animals[year-1,1] \n",
    "                  for year in years if year > min(years)),\n",
    "                 name=\"Continuity_b\")\n",
    "\n",
    "# 6.3 Continuity\n",
    "\n",
    "Continuity3 = model.addConstrs((animals[year,age+1] == (1-animal_decay)*animals[year-1,age]\n",
    "                  for year in years for age in animal_ages if year > min(years) and age < max(animal_ages)),\n",
    "                 name=\"Continuity_c\")"
   ]
  },
  {
   "cell_type": "markdown",
   "metadata": {},
   "source": [
    "Keep track of the number of animals; they can come into/out of the model by being bought or sold or through birth."
   ]
  },
  {
   "cell_type": "code",
   "execution_count": 15,
   "metadata": {},
   "outputs": [],
   "source": [
    "# 7. Heifers birth\n",
    "\n",
    "Heiferseed2irth = model.addConstrs((newborn[year] + baby_animals_sell[year] \n",
    "                  == gp.quicksum(birthrate/2*animals[year,age] for age in animal_ages) for year in years)\n",
    "                 , name=\"Heifers_birth\")"
   ]
  },
  {
   "cell_type": "markdown",
   "metadata": {},
   "source": [
    "At the end of the `years_number` years, the farmer wants at least `min_final_animals` and at most `max_final_animals` diary animals."
   ]
  },
  {
   "cell_type": "code",
   "execution_count": 16,
   "metadata": {},
   "outputs": [],
   "source": [
    "# 8. Final animals\n",
    "FinalDairyanimals = model.addRange(gp.quicksum(animals[max(years), age] for age in animal_ages), min_final_animals, max_final_animals, name=\"Final_dairy_animals\" )"
   ]
  },
  {
   "cell_type": "markdown",
   "metadata": {},
   "source": [
    "In the first year, there are 9.5 one-year-old animals and 9.5 two-year-old animals. In addition, there are 9.8 animals for each age from three to 12. Note that we are solving this as an LP model to make it easier to solve. This can lead to fractional values for variables, which are in reality integers. "
   ]
  },
  {
   "cell_type": "code",
   "execution_count": 17,
   "metadata": {},
   "outputs": [],
   "source": [
    "# 9.1-9.2 Initial conditions\n",
    "\n",
    "InitialHeifers = model.addConstrs((initial_baby_animal_number == animals[1, age] for age in ages if age < 3),\n",
    "                 name=\"Initial_conditions\")\n",
    "\n",
    "# 9.3 Initial conditions\n",
    "\n",
    "Initialanimals = model.addConstrs((initial_animals_number == animals[1, age] for age in ages if age >= 3),\n",
    "                 name=\"Initial_condition_animals\")"
   ]
  },
  {
   "cell_type": "markdown",
   "metadata": {},
   "source": [
    "The following constraints determine yearly profits. The costs for labor currently total $\\$4,000$. The profit is influenced by the selling of bullocks and heifers, selling of 12-year-old-animals, selling of milk, selling of seed1ain, selling of sugar beet, buying of seed1ain, buying of sugar beet, labor costs, heifer costs, dairy cow costs, seed1ain costs, sugar beet costs, and capital costs."
   ]
  },
  {
   "cell_type": "code",
   "execution_count": 18,
   "metadata": {},
   "outputs": [],
   "source": [
    "# 10. Yearly profit\n",
    "\n",
    "YearlyProfit = model.addConstrs((profit[year]\n",
    "                  == baby_animal_price*birthrate/2*gp.quicksum(animals[year, age] for age in animal_ages)\n",
    "                  + baby_animal_price*baby_animals_sell[year] + animal_price*animals[year, animal_last_sell_age]\n",
    "                  + animal_yearly_income*gp.quicksum(animals[year, age] for age in animal_ages)\n",
    "                  + seed1_price*seed1_sell[year] + seed2_price*seed2_sell[year]\n",
    "                  - seed1_cost*seed1_buy[year] - seed2_cost*seed2_buy[year]\n",
    "                  - overtime_cost*overtime[year] - regular_time_cost\n",
    "                  - baby_animal_cost*(newborn[year] + animals[year,1])\n",
    "                  - animal_cost*gp.quicksum(animals[year, age] for age in animal_ages)\n",
    "                  - seed1_land_cost*gp.quicksum(seed1[year, land]/seed1_yield[land] for land in lands)\n",
    "                  - seed2_land_cost*seed2[year]/seed2_yield\n",
    "                  - installment*gp.quicksum(outlay[d] for d in years if d <= year)\n",
    "                  for year in years), name=\"Yearly_profit\")"
   ]
  },
  {
   "cell_type": "markdown",
   "metadata": {},
   "source": [
    "The total profit of the planning horizon consists of the calculated profits minus the loan payments that remain pending:"
   ]
  },
  {
   "cell_type": "code",
   "execution_count": 19,
   "metadata": {},
   "outputs": [],
   "source": [
    "# 0. Total profit\n",
    "\n",
    "model.setObjective(gp.quicksum(profit[year] - installment*(year+4)*outlay[year] for year in years), GRB.MAXIMIZE)"
   ]
  },
  {
   "cell_type": "markdown",
   "metadata": {},
   "source": [
    "Next, we start the optimization and Gurobi finds the optimal solution."
   ]
  },
  {
   "cell_type": "code",
   "execution_count": 20,
   "metadata": {},
   "outputs": [
    {
     "name": "stdout",
     "output_type": "stream",
     "text": [
      "Gurobi Optimizer version 11.0.0 build v11.0.0rc2 (win64 - Windows 11.0 (22621.2))\n",
      "\n",
      "CPU model: Intel(R) Core(TM) i5-8265U CPU @ 1.60GHz, instruction set [SSE2|AVX|AVX2]\n",
      "Thread count: 4 physical cores, 8 logical processors, using up to 8 threads\n",
      "\n",
      "Optimize a model with 116 rows, 131 columns and 765 nonzeros\n",
      "Model fingerprint: 0xff52fccc\n",
      "Coefficient statistics:\n",
      "  Matrix range     [4e-02, 4e+02]\n",
      "  Objective range  [1e+00, 4e+02]\n",
      "  Bounds range     [1e+02, 1e+02]\n",
      "  RHS range        [7e+00, 4e+03]\n",
      "Presolve removed 84 rows and 67 columns\n",
      "Presolve time: 0.02s\n",
      "Presolved: 32 rows, 64 columns, 252 nonzeros\n",
      "\n",
      "Iteration    Objective       Primal Inf.    Dual Inf.      Time\n",
      "       0    5.1200000e+32   5.000000e+30   5.120000e+02      0s\n",
      "      24    1.2984543e+05   0.000000e+00   0.000000e+00      0s\n",
      "\n",
      "Solved in 24 iterations and 0.05 seconds (0.00 work units)\n",
      "Optimal objective  1.298454302e+05\n"
     ]
    }
   ],
   "source": [
    "model.optimize()"
   ]
  },
  {
   "cell_type": "markdown",
   "metadata": {},
   "source": [
    "---\n",
    "## Analysis\n",
    "\n",
    "The optimal plan results in a total profit of $\\$121,719.17$ over the five-year period the model covers. The detailed plan for each year is as follows.\n",
    "\n",
    "### Financial Plan\n",
    "\n",
    "This plan determines the profit and outlay at each period of the planning horizon. For example, the profit in year 1 is $\\$21,906.1$ and the outlay is zero dollars."
   ]
  },
  {
   "cell_type": "code",
   "execution_count": 21,
   "metadata": {},
   "outputs": [
    {
     "data": {
      "text/html": [
       "<div>\n",
       "<style scoped>\n",
       "    .dataframe tbody tr th:only-of-type {\n",
       "        vertical-align: middle;\n",
       "    }\n",
       "\n",
       "    .dataframe tbody tr th {\n",
       "        vertical-align: top;\n",
       "    }\n",
       "\n",
       "    .dataframe thead th {\n",
       "        text-align: right;\n",
       "    }\n",
       "</style>\n",
       "<table border=\"1\" class=\"dataframe\">\n",
       "  <thead>\n",
       "    <tr style=\"text-align: right;\">\n",
       "      <th></th>\n",
       "      <th>1</th>\n",
       "      <th>2</th>\n",
       "      <th>3</th>\n",
       "      <th>4</th>\n",
       "      <th>5</th>\n",
       "    </tr>\n",
       "  </thead>\n",
       "  <tbody>\n",
       "    <tr>\n",
       "      <th>Profit</th>\n",
       "      <td>25234.0</td>\n",
       "      <td>24552.5</td>\n",
       "      <td>26386.8</td>\n",
       "      <td>27640.4</td>\n",
       "      <td>26031.8</td>\n",
       "    </tr>\n",
       "    <tr>\n",
       "      <th>Outlay</th>\n",
       "      <td>0.0</td>\n",
       "      <td>0.0</td>\n",
       "      <td>0.0</td>\n",
       "      <td>0.0</td>\n",
       "      <td>0.0</td>\n",
       "    </tr>\n",
       "  </tbody>\n",
       "</table>\n",
       "</div>"
      ],
      "text/plain": [
       "              1        2        3        4        5\n",
       "Profit  25234.0  24552.5  26386.8  27640.4  26031.8\n",
       "Outlay      0.0      0.0      0.0      0.0      0.0"
      ]
     },
     "execution_count": 21,
     "metadata": {},
     "output_type": "execute_result"
    }
   ],
   "source": [
    "rows = [\"Profit\", \"Outlay\"]\n",
    "columns = years.copy()\n",
    "finance_plan = pd.DataFrame(columns=columns, index=rows, data=0.0)\n",
    "\n",
    "for year in years:\n",
    "    if (abs(profit[year].x) > 1e-6):\n",
    "        finance_plan.loc[\"Profit\", year] = np.round(profit[year].x, 1)\n",
    "    if (abs(outlay[year].x) > 1e-6):\n",
    "        finance_plan.loc[\"Outlay\", year] = np.round(outlay[year].x, 1)\n",
    "finance_plan"
   ]
  },
  {
   "cell_type": "markdown",
   "metadata": {},
   "source": [
    "### Plan for seed1\n",
    "This plan defines the number of tons of seed1ain to seed1ow for each type of land seed1oup (rows) at each year of the planning horizon (columns). It also defines the number of tons of seed1ain to buy and sell at each year of the planning horizon. For example, we are going to seed1ow 22 tons of seed1ain at land seed1oup 1 during year 2 . In addition, we are going to buy 35.1 tons of seed1ain during year 2."
   ]
  },
  {
   "cell_type": "code",
   "execution_count": 22,
   "metadata": {},
   "outputs": [
    {
     "data": {
      "text/html": [
       "<div>\n",
       "<style scoped>\n",
       "    .dataframe tbody tr th:only-of-type {\n",
       "        vertical-align: middle;\n",
       "    }\n",
       "\n",
       "    .dataframe tbody tr th {\n",
       "        vertical-align: top;\n",
       "    }\n",
       "\n",
       "    .dataframe thead th {\n",
       "        text-align: right;\n",
       "    }\n",
       "</style>\n",
       "<table border=\"1\" class=\"dataframe\">\n",
       "  <thead>\n",
       "    <tr style=\"text-align: right;\">\n",
       "      <th></th>\n",
       "      <th>1</th>\n",
       "      <th>2</th>\n",
       "      <th>3</th>\n",
       "      <th>4</th>\n",
       "      <th>5</th>\n",
       "    </tr>\n",
       "  </thead>\n",
       "  <tbody>\n",
       "    <tr>\n",
       "      <th>1</th>\n",
       "      <td>22.0</td>\n",
       "      <td>22.0</td>\n",
       "      <td>22.0</td>\n",
       "      <td>22.0</td>\n",
       "      <td>22.0</td>\n",
       "    </tr>\n",
       "    <tr>\n",
       "      <th>2</th>\n",
       "      <td>0.0</td>\n",
       "      <td>0.0</td>\n",
       "      <td>0.0</td>\n",
       "      <td>0.0</td>\n",
       "      <td>0.0</td>\n",
       "    </tr>\n",
       "    <tr>\n",
       "      <th>3</th>\n",
       "      <td>0.0</td>\n",
       "      <td>0.0</td>\n",
       "      <td>0.0</td>\n",
       "      <td>0.0</td>\n",
       "      <td>0.0</td>\n",
       "    </tr>\n",
       "    <tr>\n",
       "      <th>4</th>\n",
       "      <td>0.0</td>\n",
       "      <td>0.0</td>\n",
       "      <td>0.0</td>\n",
       "      <td>0.0</td>\n",
       "      <td>0.0</td>\n",
       "    </tr>\n",
       "    <tr>\n",
       "      <th>Buy</th>\n",
       "      <td>42.5</td>\n",
       "      <td>40.9</td>\n",
       "      <td>41.0</td>\n",
       "      <td>41.2</td>\n",
       "      <td>34.5</td>\n",
       "    </tr>\n",
       "    <tr>\n",
       "      <th>Sell</th>\n",
       "      <td>0.0</td>\n",
       "      <td>0.0</td>\n",
       "      <td>0.0</td>\n",
       "      <td>0.0</td>\n",
       "      <td>0.0</td>\n",
       "    </tr>\n",
       "  </tbody>\n",
       "</table>\n",
       "</div>"
      ],
      "text/plain": [
       "         1     2     3     4     5\n",
       "1     22.0  22.0  22.0  22.0  22.0\n",
       "2      0.0   0.0   0.0   0.0   0.0\n",
       "3      0.0   0.0   0.0   0.0   0.0\n",
       "4      0.0   0.0   0.0   0.0   0.0\n",
       "Buy   42.5  40.9  41.0  41.2  34.5\n",
       "Sell   0.0   0.0   0.0   0.0   0.0"
      ]
     },
     "execution_count": 22,
     "metadata": {},
     "output_type": "execute_result"
    }
   ],
   "source": [
    "rows = lands.copy() + [\"Buy\", \"Sell\"]\n",
    "columns = years.copy()\n",
    "seed1_plan = pd.DataFrame(columns=columns, index=rows, data=0.0)\n",
    "\n",
    "for year, land in seed1.keys():\n",
    "    if (abs(seed1[year, land].x) > 1e-6):\n",
    "        seed1_plan.loc[land, year] = np.round(seed1[year, land].x, 1)\n",
    "for year in years:\n",
    "    if (abs(seed1_buy[year].x) > 1e-6):\n",
    "        seed1_plan.loc[\"Buy\", year] = np.round(seed1_buy[year].x, 1)\n",
    "    if (abs(seed1_sell[year].x) > 1e-6):\n",
    "        seed1_plan.loc[\"Sell\", year] = np.round(seed1_sell[year].x, 1)\n",
    "seed1_plan"
   ]
  },
  {
   "cell_type": "markdown",
   "metadata": {},
   "source": [
    "### Plan for Sugar Beet\n",
    "This plan defines the number of tons of sugar beet to seed1ow at each year of the planning horizon (columns). It also defines the number of tons of sugar beet to buy and sell at each year of the planning horizon. For example, we are going to seed1ow 94 tons of sugar beet during year 2 . In addition, we are going to sell 27.4 tons of sugar beet during year 2."
   ]
  },
  {
   "cell_type": "code",
   "execution_count": 23,
   "metadata": {},
   "outputs": [
    {
     "data": {
      "text/html": [
       "<div>\n",
       "<style scoped>\n",
       "    .dataframe tbody tr th:only-of-type {\n",
       "        vertical-align: middle;\n",
       "    }\n",
       "\n",
       "    .dataframe tbody tr th {\n",
       "        vertical-align: top;\n",
       "    }\n",
       "\n",
       "    .dataframe thead th {\n",
       "        text-align: right;\n",
       "    }\n",
       "</style>\n",
       "<table border=\"1\" class=\"dataframe\">\n",
       "  <thead>\n",
       "    <tr style=\"text-align: right;\">\n",
       "      <th></th>\n",
       "      <th>1</th>\n",
       "      <th>2</th>\n",
       "      <th>3</th>\n",
       "      <th>4</th>\n",
       "      <th>5</th>\n",
       "    </tr>\n",
       "  </thead>\n",
       "  <tbody>\n",
       "    <tr>\n",
       "      <th>seed1ow</th>\n",
       "      <td>86.5</td>\n",
       "      <td>87.9</td>\n",
       "      <td>100.4</td>\n",
       "      <td>112.1</td>\n",
       "      <td>128.8</td>\n",
       "    </tr>\n",
       "    <tr>\n",
       "      <th>Buy</th>\n",
       "      <td>0.0</td>\n",
       "      <td>0.0</td>\n",
       "      <td>0.0</td>\n",
       "      <td>0.0</td>\n",
       "      <td>0.0</td>\n",
       "    </tr>\n",
       "    <tr>\n",
       "      <th>Sell</th>\n",
       "      <td>11.2</td>\n",
       "      <td>14.5</td>\n",
       "      <td>26.9</td>\n",
       "      <td>38.3</td>\n",
       "      <td>62.9</td>\n",
       "    </tr>\n",
       "  </tbody>\n",
       "</table>\n",
       "</div>"
      ],
      "text/plain": [
       "            1     2      3      4      5\n",
       "seed1ow  86.5  87.9  100.4  112.1  128.8\n",
       "Buy       0.0   0.0    0.0    0.0    0.0\n",
       "Sell     11.2  14.5   26.9   38.3   62.9"
      ]
     },
     "execution_count": 23,
     "metadata": {},
     "output_type": "execute_result"
    }
   ],
   "source": [
    "rows = [\"seed1ow\", \"Buy\", \"Sell\"]\n",
    "columns = years.copy()\n",
    "seed2_plan = pd.DataFrame(columns=columns, index=rows, data=0.0)\n",
    "\n",
    "for year in years:\n",
    "    if (abs(seed2[year].x) > 1e-6):\n",
    "        seed2_plan.loc[\"seed1ow\", year] = np.round(seed2[year].x, 1)\n",
    "    if (abs(seed2_buy[year].x) > 1e-6):\n",
    "        seed2_plan.loc[\"Buy\", year] = np.round(seed2_buy[year].x, 1)\n",
    "    if (abs(seed2_sell[year].x) > 1e-6):\n",
    "        seed2_plan.loc[\"Sell\", year] = np.round(seed2_sell[year].x, 1)\n",
    "seed2_plan"
   ]
  },
  {
   "cell_type": "markdown",
   "metadata": {},
   "source": [
    "### Plan for Heifers\n",
    "\n",
    "This plan shows number of heifers to sell and raise at each period of the planning horizon. For example, we are going to sell 40.8 heifers and raise 11.6 heifers during year 2."
   ]
  },
  {
   "cell_type": "code",
   "execution_count": 24,
   "metadata": {},
   "outputs": [
    {
     "data": {
      "text/html": [
       "<div>\n",
       "<style scoped>\n",
       "    .dataframe tbody tr th:only-of-type {\n",
       "        vertical-align: middle;\n",
       "    }\n",
       "\n",
       "    .dataframe tbody tr th {\n",
       "        vertical-align: top;\n",
       "    }\n",
       "\n",
       "    .dataframe thead th {\n",
       "        text-align: right;\n",
       "    }\n",
       "</style>\n",
       "<table border=\"1\" class=\"dataframe\">\n",
       "  <thead>\n",
       "    <tr style=\"text-align: right;\">\n",
       "      <th></th>\n",
       "      <th>1</th>\n",
       "      <th>2</th>\n",
       "      <th>3</th>\n",
       "      <th>4</th>\n",
       "      <th>5</th>\n",
       "    </tr>\n",
       "  </thead>\n",
       "  <tbody>\n",
       "    <tr>\n",
       "      <th>Sell</th>\n",
       "      <td>46.1</td>\n",
       "      <td>44.7</td>\n",
       "      <td>57.7</td>\n",
       "      <td>57.9</td>\n",
       "      <td>51.8</td>\n",
       "    </tr>\n",
       "    <tr>\n",
       "      <th>Raise</th>\n",
       "      <td>13.0</td>\n",
       "      <td>12.9</td>\n",
       "      <td>0.0</td>\n",
       "      <td>0.0</td>\n",
       "      <td>0.0</td>\n",
       "    </tr>\n",
       "  </tbody>\n",
       "</table>\n",
       "</div>"
      ],
      "text/plain": [
       "          1     2     3     4     5\n",
       "Sell   46.1  44.7  57.7  57.9  51.8\n",
       "Raise  13.0  12.9   0.0   0.0   0.0"
      ]
     },
     "execution_count": 24,
     "metadata": {},
     "output_type": "execute_result"
    }
   ],
   "source": [
    "rows = [\"Sell\", \"Raise\"]\n",
    "columns = years.copy()\n",
    "livestock_plan = pd.DataFrame(columns=columns, index=rows, data=0.0)\n",
    "\n",
    "for year in years:\n",
    "    if (abs(baby_animals_sell[year].x) > 1e-6):\n",
    "        livestock_plan.loc[\"Sell\", year] = np.round(baby_animals_sell[year].x, 1)\n",
    "    if (abs(newborn[year].x) > 1e-6):\n",
    "        livestock_plan.loc[\"Raise\", year] = np.round(newborn[year].x, 1)\n",
    "livestock_plan"
   ]
  },
  {
   "cell_type": "markdown",
   "metadata": {},
   "source": [
    "---\n",
    "## References\n",
    "\n",
    "H. Paul Williams, Model Building in Mathematical Proseed1amming, fifth edition.\n",
    "\n",
    "Copyright © 2020 Gurobi Optimization, LLC"
   ]
  },
  {
   "cell_type": "code",
   "execution_count": null,
   "metadata": {},
   "outputs": [],
   "source": []
  }
 ],
 "metadata": {
  "kernelspec": {
   "display_name": "Python 3",
   "language": "python",
   "name": "python3"
  },
  "language_info": {
   "codemirror_mode": {
    "name": "ipython",
    "version": 3
   },
   "file_extension": ".py",
   "mimetype": "text/x-python",
   "name": "python",
   "nbconvert_exporter": "python",
   "pygments_lexer": "ipython3",
   "version": "3.11.5"
  }
 },
 "nbformat": 4,
 "nbformat_minor": 2
}
